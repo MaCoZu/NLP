{
  "nbformat": 4,
  "nbformat_minor": 0,
  "metadata": {
    "colab": {
      "provenance": [],
      "gpuType": "T4",
      "include_colab_link": true
    },
    "kernelspec": {
      "name": "python3",
      "display_name": "Python 3"
    },
    "language_info": {
      "name": "python"
    },
    "accelerator": "GPU",
    "widgets": {
      "application/vnd.jupyter.widget-state+json": {
        "93d9c84ec2a047d2a374b1e86911d0c8": {
          "model_module": "@jupyter-widgets/controls",
          "model_name": "HBoxModel",
          "model_module_version": "1.5.0",
          "state": {
            "_dom_classes": [],
            "_model_module": "@jupyter-widgets/controls",
            "_model_module_version": "1.5.0",
            "_model_name": "HBoxModel",
            "_view_count": null,
            "_view_module": "@jupyter-widgets/controls",
            "_view_module_version": "1.5.0",
            "_view_name": "HBoxView",
            "box_style": "",
            "children": [
              "IPY_MODEL_95d6401e9db342938fe2d4fa644ae897",
              "IPY_MODEL_32c5ae74ec934cd699ef595975f0a330",
              "IPY_MODEL_2c991f2b7e7542d5967376273b21ae8a"
            ],
            "layout": "IPY_MODEL_51b94cf181964714bc8758c9d7d7a61a"
          }
        },
        "95d6401e9db342938fe2d4fa644ae897": {
          "model_module": "@jupyter-widgets/controls",
          "model_name": "HTMLModel",
          "model_module_version": "1.5.0",
          "state": {
            "_dom_classes": [],
            "_model_module": "@jupyter-widgets/controls",
            "_model_module_version": "1.5.0",
            "_model_name": "HTMLModel",
            "_view_count": null,
            "_view_module": "@jupyter-widgets/controls",
            "_view_module_version": "1.5.0",
            "_view_name": "HTMLView",
            "description": "",
            "description_tooltip": null,
            "layout": "IPY_MODEL_5d040a19f30441d189cd5f7f04f54249",
            "placeholder": "​",
            "style": "IPY_MODEL_2a5086736e454197a9be55d461051738",
            "value": "Dl Completed...: 100%"
          }
        },
        "32c5ae74ec934cd699ef595975f0a330": {
          "model_module": "@jupyter-widgets/controls",
          "model_name": "FloatProgressModel",
          "model_module_version": "1.5.0",
          "state": {
            "_dom_classes": [],
            "_model_module": "@jupyter-widgets/controls",
            "_model_module_version": "1.5.0",
            "_model_name": "FloatProgressModel",
            "_view_count": null,
            "_view_module": "@jupyter-widgets/controls",
            "_view_module_version": "1.5.0",
            "_view_name": "ProgressView",
            "bar_style": "success",
            "description": "",
            "description_tooltip": null,
            "layout": "IPY_MODEL_c0a3df40e2b74357b9435d1f7be9860b",
            "max": 5,
            "min": 0,
            "orientation": "horizontal",
            "style": "IPY_MODEL_9631870171dc46b1bd7eb0b8a8c1b134",
            "value": 5
          }
        },
        "2c991f2b7e7542d5967376273b21ae8a": {
          "model_module": "@jupyter-widgets/controls",
          "model_name": "HTMLModel",
          "model_module_version": "1.5.0",
          "state": {
            "_dom_classes": [],
            "_model_module": "@jupyter-widgets/controls",
            "_model_module_version": "1.5.0",
            "_model_name": "HTMLModel",
            "_view_count": null,
            "_view_module": "@jupyter-widgets/controls",
            "_view_module_version": "1.5.0",
            "_view_name": "HTMLView",
            "description": "",
            "description_tooltip": null,
            "layout": "IPY_MODEL_159776dc8c9c4f43b41833883561c607",
            "placeholder": "​",
            "style": "IPY_MODEL_7968e50dca85490ba3f44d960a221002",
            "value": " 5/5 [00:00&lt;00:00,  8.17 file/s]"
          }
        },
        "51b94cf181964714bc8758c9d7d7a61a": {
          "model_module": "@jupyter-widgets/base",
          "model_name": "LayoutModel",
          "model_module_version": "1.2.0",
          "state": {
            "_model_module": "@jupyter-widgets/base",
            "_model_module_version": "1.2.0",
            "_model_name": "LayoutModel",
            "_view_count": null,
            "_view_module": "@jupyter-widgets/base",
            "_view_module_version": "1.2.0",
            "_view_name": "LayoutView",
            "align_content": null,
            "align_items": null,
            "align_self": null,
            "border": null,
            "bottom": null,
            "display": null,
            "flex": null,
            "flex_flow": null,
            "grid_area": null,
            "grid_auto_columns": null,
            "grid_auto_flow": null,
            "grid_auto_rows": null,
            "grid_column": null,
            "grid_gap": null,
            "grid_row": null,
            "grid_template_areas": null,
            "grid_template_columns": null,
            "grid_template_rows": null,
            "height": null,
            "justify_content": null,
            "justify_items": null,
            "left": null,
            "margin": null,
            "max_height": null,
            "max_width": null,
            "min_height": null,
            "min_width": null,
            "object_fit": null,
            "object_position": null,
            "order": null,
            "overflow": null,
            "overflow_x": null,
            "overflow_y": null,
            "padding": null,
            "right": null,
            "top": null,
            "visibility": null,
            "width": null
          }
        },
        "5d040a19f30441d189cd5f7f04f54249": {
          "model_module": "@jupyter-widgets/base",
          "model_name": "LayoutModel",
          "model_module_version": "1.2.0",
          "state": {
            "_model_module": "@jupyter-widgets/base",
            "_model_module_version": "1.2.0",
            "_model_name": "LayoutModel",
            "_view_count": null,
            "_view_module": "@jupyter-widgets/base",
            "_view_module_version": "1.2.0",
            "_view_name": "LayoutView",
            "align_content": null,
            "align_items": null,
            "align_self": null,
            "border": null,
            "bottom": null,
            "display": null,
            "flex": null,
            "flex_flow": null,
            "grid_area": null,
            "grid_auto_columns": null,
            "grid_auto_flow": null,
            "grid_auto_rows": null,
            "grid_column": null,
            "grid_gap": null,
            "grid_row": null,
            "grid_template_areas": null,
            "grid_template_columns": null,
            "grid_template_rows": null,
            "height": null,
            "justify_content": null,
            "justify_items": null,
            "left": null,
            "margin": null,
            "max_height": null,
            "max_width": null,
            "min_height": null,
            "min_width": null,
            "object_fit": null,
            "object_position": null,
            "order": null,
            "overflow": null,
            "overflow_x": null,
            "overflow_y": null,
            "padding": null,
            "right": null,
            "top": null,
            "visibility": null,
            "width": null
          }
        },
        "2a5086736e454197a9be55d461051738": {
          "model_module": "@jupyter-widgets/controls",
          "model_name": "DescriptionStyleModel",
          "model_module_version": "1.5.0",
          "state": {
            "_model_module": "@jupyter-widgets/controls",
            "_model_module_version": "1.5.0",
            "_model_name": "DescriptionStyleModel",
            "_view_count": null,
            "_view_module": "@jupyter-widgets/base",
            "_view_module_version": "1.2.0",
            "_view_name": "StyleView",
            "description_width": ""
          }
        },
        "c0a3df40e2b74357b9435d1f7be9860b": {
          "model_module": "@jupyter-widgets/base",
          "model_name": "LayoutModel",
          "model_module_version": "1.2.0",
          "state": {
            "_model_module": "@jupyter-widgets/base",
            "_model_module_version": "1.2.0",
            "_model_name": "LayoutModel",
            "_view_count": null,
            "_view_module": "@jupyter-widgets/base",
            "_view_module_version": "1.2.0",
            "_view_name": "LayoutView",
            "align_content": null,
            "align_items": null,
            "align_self": null,
            "border": null,
            "bottom": null,
            "display": null,
            "flex": null,
            "flex_flow": null,
            "grid_area": null,
            "grid_auto_columns": null,
            "grid_auto_flow": null,
            "grid_auto_rows": null,
            "grid_column": null,
            "grid_gap": null,
            "grid_row": null,
            "grid_template_areas": null,
            "grid_template_columns": null,
            "grid_template_rows": null,
            "height": null,
            "justify_content": null,
            "justify_items": null,
            "left": null,
            "margin": null,
            "max_height": null,
            "max_width": null,
            "min_height": null,
            "min_width": null,
            "object_fit": null,
            "object_position": null,
            "order": null,
            "overflow": null,
            "overflow_x": null,
            "overflow_y": null,
            "padding": null,
            "right": null,
            "top": null,
            "visibility": null,
            "width": null
          }
        },
        "9631870171dc46b1bd7eb0b8a8c1b134": {
          "model_module": "@jupyter-widgets/controls",
          "model_name": "ProgressStyleModel",
          "model_module_version": "1.5.0",
          "state": {
            "_model_module": "@jupyter-widgets/controls",
            "_model_module_version": "1.5.0",
            "_model_name": "ProgressStyleModel",
            "_view_count": null,
            "_view_module": "@jupyter-widgets/base",
            "_view_module_version": "1.2.0",
            "_view_name": "StyleView",
            "bar_color": null,
            "description_width": ""
          }
        },
        "159776dc8c9c4f43b41833883561c607": {
          "model_module": "@jupyter-widgets/base",
          "model_name": "LayoutModel",
          "model_module_version": "1.2.0",
          "state": {
            "_model_module": "@jupyter-widgets/base",
            "_model_module_version": "1.2.0",
            "_model_name": "LayoutModel",
            "_view_count": null,
            "_view_module": "@jupyter-widgets/base",
            "_view_module_version": "1.2.0",
            "_view_name": "LayoutView",
            "align_content": null,
            "align_items": null,
            "align_self": null,
            "border": null,
            "bottom": null,
            "display": null,
            "flex": null,
            "flex_flow": null,
            "grid_area": null,
            "grid_auto_columns": null,
            "grid_auto_flow": null,
            "grid_auto_rows": null,
            "grid_column": null,
            "grid_gap": null,
            "grid_row": null,
            "grid_template_areas": null,
            "grid_template_columns": null,
            "grid_template_rows": null,
            "height": null,
            "justify_content": null,
            "justify_items": null,
            "left": null,
            "margin": null,
            "max_height": null,
            "max_width": null,
            "min_height": null,
            "min_width": null,
            "object_fit": null,
            "object_position": null,
            "order": null,
            "overflow": null,
            "overflow_x": null,
            "overflow_y": null,
            "padding": null,
            "right": null,
            "top": null,
            "visibility": null,
            "width": null
          }
        },
        "7968e50dca85490ba3f44d960a221002": {
          "model_module": "@jupyter-widgets/controls",
          "model_name": "DescriptionStyleModel",
          "model_module_version": "1.5.0",
          "state": {
            "_model_module": "@jupyter-widgets/controls",
            "_model_module_version": "1.5.0",
            "_model_name": "DescriptionStyleModel",
            "_view_count": null,
            "_view_module": "@jupyter-widgets/base",
            "_view_module_version": "1.2.0",
            "_view_name": "StyleView",
            "description_width": ""
          }
        }
      }
    }
  },
  "cells": [
    {
      "cell_type": "markdown",
      "metadata": {
        "id": "view-in-github",
        "colab_type": "text"
      },
      "source": [
        "<a href=\"https://colab.research.google.com/github/MaCoZu/NLP/blob/main/01_mnist.ipynb\" target=\"_parent\"><img src=\"https://colab.research.google.com/assets/colab-badge.svg\" alt=\"Open In Colab\"/></a>"
      ]
    },
    {
      "cell_type": "code",
      "execution_count": null,
      "metadata": {
        "id": "9JeANLSYTgNO"
      },
      "outputs": [],
      "source": [
        "import tensorflow_datasets as tfds\n",
        "import numpy as np\n",
        "import matplotlib.pyplot as plt\n",
        "import tensorflow as tf\n",
        "from tensorflow.keras import models, layers"
      ]
    },
    {
      "cell_type": "code",
      "source": [
        "!pip install -q holoviews\n",
        "import holoviews as hv\n",
        "hv.extension('matplotlib')"
      ],
      "metadata": {
        "id": "Go6LHIfr2nPE"
      },
      "execution_count": null,
      "outputs": []
    },
    {
      "cell_type": "markdown",
      "source": [
        "# Load MNIST Dataset"
      ],
      "metadata": {
        "id": "SpMeBIn1cRGv"
      }
    },
    {
      "cell_type": "code",
      "source": [
        "(dataset_train_original, dataset_validate_original, dataset_validate_original), info = tfds.load(\n",
        "                     \"mnist\",\n",
        "                     as_supervised=True,\n",
        "                     split=['train','test[:50%]','test[50%:]'], # train, test, validate\n",
        "                     with_info=True,\n",
        "                   )\n",
        "info"
      ],
      "metadata": {
        "colab": {
          "base_uri": "https://localhost:8080/",
          "height": 623,
          "referenced_widgets": [
            "93d9c84ec2a047d2a374b1e86911d0c8",
            "95d6401e9db342938fe2d4fa644ae897",
            "32c5ae74ec934cd699ef595975f0a330",
            "2c991f2b7e7542d5967376273b21ae8a",
            "51b94cf181964714bc8758c9d7d7a61a",
            "5d040a19f30441d189cd5f7f04f54249",
            "2a5086736e454197a9be55d461051738",
            "c0a3df40e2b74357b9435d1f7be9860b",
            "9631870171dc46b1bd7eb0b8a8c1b134",
            "159776dc8c9c4f43b41833883561c607",
            "7968e50dca85490ba3f44d960a221002"
          ]
        },
        "id": "LAvOcbmTT3fo",
        "outputId": "9f3fff5a-a70f-42e7-b0a6-9f794f7df2ca"
      },
      "execution_count": null,
      "outputs": [
        {
          "output_type": "stream",
          "name": "stdout",
          "text": [
            "Downloading and preparing dataset 11.06 MiB (download: 11.06 MiB, generated: 21.00 MiB, total: 32.06 MiB) to /root/tensorflow_datasets/mnist/3.0.1...\n"
          ]
        },
        {
          "output_type": "display_data",
          "data": {
            "text/plain": [
              "Dl Completed...:   0%|          | 0/5 [00:00<?, ? file/s]"
            ],
            "application/vnd.jupyter.widget-view+json": {
              "version_major": 2,
              "version_minor": 0,
              "model_id": "93d9c84ec2a047d2a374b1e86911d0c8"
            }
          },
          "metadata": {}
        },
        {
          "output_type": "stream",
          "name": "stdout",
          "text": [
            "Dataset mnist downloaded and prepared to /root/tensorflow_datasets/mnist/3.0.1. Subsequent calls will reuse this data.\n"
          ]
        },
        {
          "output_type": "execute_result",
          "data": {
            "text/plain": [
              "tfds.core.DatasetInfo(\n",
              "    name='mnist',\n",
              "    full_name='mnist/3.0.1',\n",
              "    description=\"\"\"\n",
              "    The MNIST database of handwritten digits.\n",
              "    \"\"\",\n",
              "    homepage='http://yann.lecun.com/exdb/mnist/',\n",
              "    data_path='/root/tensorflow_datasets/mnist/3.0.1.incompleteR6WX9T',\n",
              "    file_format=tfrecord,\n",
              "    download_size=11.06 MiB,\n",
              "    dataset_size=21.00 MiB,\n",
              "    features=FeaturesDict({\n",
              "        'image': Image(shape=(28, 28, 1), dtype=uint8),\n",
              "        'label': ClassLabel(shape=(), dtype=int64, num_classes=10),\n",
              "    }),\n",
              "    supervised_keys=('image', 'label'),\n",
              "    disable_shuffling=False,\n",
              "    splits={\n",
              "        'test': <SplitInfo num_examples=10000, num_shards=1>,\n",
              "        'train': <SplitInfo num_examples=60000, num_shards=1>,\n",
              "    },\n",
              "    citation=\"\"\"@article{lecun2010mnist,\n",
              "      title={MNIST handwritten digit database},\n",
              "      author={LeCun, Yann and Cortes, Corinna and Burges, CJ},\n",
              "      journal={ATT Labs [Online]. Available: http://yann.lecun.com/exdb/mnist},\n",
              "      volume={2},\n",
              "      year={2010}\n",
              "    }\"\"\",\n",
              ")"
            ]
          },
          "metadata": {},
          "execution_count": 2
        }
      ]
    },
    {
      "cell_type": "code",
      "source": [
        "layout = []\n",
        "for x, y in dataset_train_original.shuffle(60000).take(2):\n",
        "  img = hv.Image(x.numpy(), group = f\"{y}\")\n",
        "  layout.append(img)"
      ],
      "metadata": {
        "id": "2jRDLuE_dFFI"
      },
      "execution_count": null,
      "outputs": []
    },
    {
      "cell_type": "code",
      "source": [
        "opts = hv.opts.Image(cmap='gray', sublabel_format='', xaxis=None, yaxis=None, padding=0)\n",
        "hv.Layout(layout).opts(opts).opts(tight=True)"
      ],
      "metadata": {
        "colab": {
          "base_uri": "https://localhost:8080/",
          "height": 250
        },
        "id": "fYRJ3NnreGLG",
        "outputId": "72d889f2-3d8c-4d22-ff77-9279fd0f1b8d"
      },
      "execution_count": null,
      "outputs": [
        {
          "output_type": "execute_result",
          "data": {
            "text/html": [
              "<img src='data:image/png;base64,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' style='max-width:100%; margin: auto; display: block; '/>"
            ],
            "text/plain": [
              ":Layout\n",
              "   .A_7.I :Image   [x,y]   (z)\n",
              "   .A_3.I :Image   [x,y]   (z)"
            ]
          },
          "metadata": {
            "application/vnd.holoviews_exec.v0+json": {}
          },
          "execution_count": 11
        }
      ]
    },
    {
      "cell_type": "markdown",
      "source": [
        "# Pipelines"
      ],
      "metadata": {
        "id": "-8Gw3uZS24Xo"
      }
    },
    {
      "cell_type": "code",
      "source": [
        "def encode(image, label):\n",
        "  image = tf.image.convert_iamge_dtype(image, tf.float32)\n",
        "  return image, label\n",
        "\n",
        "dataset = dataset_train_original.map(lambda image, label: encode(image, label) )"
      ],
      "metadata": {
        "id": "NMnac-Wa32PH"
      },
      "execution_count": null,
      "outputs": []
    },
    {
      "cell_type": "code",
      "source": [
        "for image, labels in datasets.take(1):\n",
        "  plt.imsoh(image, cmap='gray')\n",
        "  plt.title(f'Label: {label}')\n",
        "  plt.show()\n",
        "  plt.(image.dtype)\n"
      ],
      "metadata": {
        "id": "TCUeIAoM27pv"
      },
      "execution_count": null,
      "outputs": []
    }
  ]
}